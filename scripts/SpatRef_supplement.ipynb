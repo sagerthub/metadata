{
 "cells": [
  {
   "cell_type": "markdown",
   "metadata": {},
   "source": [
    "Dev notes:\n",
    " - through 2022/02/28, developed as \"SpatRef_supplement\" in D:\\ArcGIS\\Projects\\CM1 and Metadata Update\n",
    " - from 2022/03/01, developed as (GitHub)/metadata/scripts/SpatRef_supplement\n",
    " \n",
    "2022/03/01: v00.5"
   ]
  },
  {
   "cell_type": "markdown",
   "metadata": {},
   "source": [
    "Setup & Prerequisites:\n",
    "0. Requires ArcGIS Pro. Developed & tested at ArcGIS Pro 2.9.1 in the defualt python env. Run as Notebook (.ipynb) in ArcGIS Pro.\n",
    "1. Acquire & stage data. Should be a copy of the most recent source data, not the source data itself. This process may involve changing geometry, attributes, and table schema.\n",
    "2. Run \"Check Geometry\" tool. Use caution when deleting null geometry. Evaluate outputs and note necessary repairs.\n",
    "3. Run \"Data Inventory\" script tool.\n",
    "4. Complete data inventory and make an necessary geometry, attribute, or table updates. This may include repairing geometry errors found in step 2 and/or loading a new copy of the data in a fresh table schema.\n",
    "5. Run \"Check Geometry\" tool again (still using caution when deleting null geometry) and run \"Repair Geometry\" if necessary.\n",
    "6. Run \"Recalculate Feature Class Extent\" tool.\n",
    "7. Run \"Metadata Updater\" script tool. Output will be a near-complete XML metadata file.\n",
    "8. **Use the \"SpatRef_supplement\" script tool and Section 1 and Section 2 worksheets to complete the metadata document.**\n",
    "9. Review and create HTML copy. Publish both copies."
   ]
  },
  {
   "cell_type": "code",
   "execution_count": null,
   "metadata": {},
   "outputs": [],
   "source": [
    "# 1. Run \"Check Geometry\"\n",
    "# 2. Repair geometry as needed\n",
    "# 3. Run \"Recalculate Feature Class Extent\"\n",
    "\n",
    "# 4. Copy/paste feature class path below:\n",
    "target_fc = r''"
   ]
  },
  {
   "cell_type": "code",
   "execution_count": null,
   "metadata": {},
   "outputs": [],
   "source": [
    "d = arcpy.Describe(target_fc) # returns describe object\n",
    "s = d.spatialReference # returns spatial reference object https://pro.arcgis.com/en/pro-app/latest/arcpy/classes/spatialreference.htm\n",
    "horiztype = s.type # 'Projected'\n",
    "horizname = s.name # 'NAD_1983_2011_StatePlane_New_Mexico_Central_FIPS_3002_Ft_US'\n",
    "sfctrmer = s.scaleFactor # 0.9999\n",
    "longcm = s.centralMeridian # -106.25\n",
    "latprjo = s.latitudeOfOrigin # 31.0\n",
    "feast = s.falseEasting # 1640416.666666667\n",
    "fnorth = s.falseNorthing # 0.0\n",
    "xyres = s.XYResolution # 0.0003280833333333333\n",
    "plandu = s.linearUnitName # 'Foot_US'\n",
    "\n",
    "g = s.GCS # returns SR object for geoid\n",
    "ghorizdn = g.name # 'GCS_NAD_1983_2011'\n",
    "ellips = g.spheroidName # 'GRS_1980'\n",
    "semiaxis = g.semiMajorAxis # 6378137.0\n",
    "denflat = 1 / g.flattening # returns denominator of flattening ratio 298.257222101\n",
    "\n",
    "spref = '''\n",
    "<spref>\n",
    "<horizsys>\n",
    "<planar>\n",
    "<mapproj>\n",
    "<mapprojn>{}</mapprojn>\n",
    "<transmer>\n",
    "<sfctrmer>{}</sfctrmer>\n",
    "<longcm>{}</longcm>\n",
    "<latprjo>{}</latprjo>\n",
    "<feast>{}</feast>\n",
    "<fnorth>{}</fnorth>\n",
    "</transmer>\n",
    "</mapproj>\n",
    "<planci>\n",
    "<plance>coordinate pair</plance>\n",
    "<coordrep>\n",
    "<absres>{}</absres>\n",
    "<ordres>{}</ordres>\n",
    "</coordrep>\n",
    "<plandu>{}</plandu>\n",
    "</planci>\n",
    "</planar>\n",
    "<geodetic>\n",
    "<horizdn>{}</horizdn>\n",
    "<ellips>{}</ellips>\n",
    "<semiaxis>{}</semiaxis>\n",
    "<denflat>{}</denflat>\n",
    "</geodetic>\n",
    "</horizsys>\n",
    "</spref>\n",
    "'''.format(\n",
    "    horizname.replace('_', ' '),\n",
    "    sfctrmer,\n",
    "    longcm,\n",
    "    latprjo,\n",
    "    feast,\n",
    "    fnorth,\n",
    "    xyres,\n",
    "    xyres,\n",
    "    plandu.replace('_', ' '),\n",
    "    ghorizdn.replace('_', ' '),\n",
    "    ellips.replace('_', ' '),\n",
    "    semiaxis,\n",
    "    denflat\n",
    ")\n",
    "\n",
    "print(spref)"
   ]
  },
  {
   "cell_type": "code",
   "execution_count": null,
   "metadata": {},
   "outputs": [],
   "source": [
    "'''\n",
    "Notes:\n",
    "v1.0 - 2022/02/15\n",
    "Assumes planar and projected horizontal SRS and no vertical SRS.\n",
    "'''"
   ]
  }
 ],
 "metadata": {
  "kernelspec": {
   "display_name": "ArcGISPro",
   "language": "Python",
   "name": "python3"
  },
  "language_info": {
   "file_extension": ".py",
   "name": "python",
   "version": "3"
  }
 },
 "nbformat": 4,
 "nbformat_minor": 2
}
